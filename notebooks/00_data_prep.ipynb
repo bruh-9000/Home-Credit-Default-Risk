{
 "cells": [
  {
   "cell_type": "markdown",
   "id": "3771859c",
   "metadata": {},
   "source": [
    "# Setup"
   ]
  },
  {
   "cell_type": "code",
   "execution_count": null,
   "id": "c54b6d88",
   "metadata": {},
   "outputs": [],
   "source": [
    "from pathlib import Path\n",
    "import pandas as pd\n",
    "import sys\n",
    "import yaml\n",
    "import joblib\n",
    "\n",
    "ROOT_PATH = Path().resolve().parent\n",
    "sys.path.append(str(ROOT_PATH))\n",
    "\n",
    "from src.utils.features import add_features\n",
    "from src.utils.preprocessing import prepare_train_val_split, dedup\n",
    "from src.utils.config import (\n",
    "    SAVE_PATH,\n",
    "    CONFIG_PATH\n",
    ")\n",
    "\n",
    "\n",
    "with open(CONFIG_PATH, \"r\") as f:\n",
    "    config = yaml.safe_load(f)"
   ]
  },
  {
   "cell_type": "markdown",
   "id": "03a65bad",
   "metadata": {},
   "source": [
    "# Load and Clean Data"
   ]
  },
  {
   "cell_type": "code",
   "execution_count": 2,
   "id": "7f41694f",
   "metadata": {},
   "outputs": [
    {
     "name": "stdout",
     "output_type": "stream",
     "text": [
      "No duplicated examples found!\n"
     ]
    }
   ],
   "source": [
    "main_file_path = config[\"general\"][\"main_file_path\"]\n",
    "bureau_file_path = config[\"general\"][\"bureau_file_path\"]\n",
    "bureaubal_file_path = config[\"general\"][\"bureaubal_file_path\"]\n",
    "prevapp_file_path = config[\"general\"][\"prevapp_file_path\"]\n",
    "credit_card_path = config[\"general\"][\"credit_card_path\"]\n",
    "installments_path = config[\"general\"][\"installments_path\"]\n",
    "pos_cash_path = config[\"general\"][\"pos_cash_path\"]\n",
    "\n",
    "# Load datasets\n",
    "main_df = pd.read_csv(main_file_path)\n",
    "bureau_df = pd.read_csv(bureau_file_path)\n",
    "bureau_balance_df = pd.read_csv(bureaubal_file_path)\n",
    "previous_application_df = pd.read_csv(prevapp_file_path)\n",
    "credit_card_df = pd.read_csv(credit_card_path)\n",
    "installments_df = pd.read_csv(installments_path)\n",
    "pos_cash_df = pd.read_csv(pos_cash_path)\n",
    "\n",
    "# Get features from other files\n",
    "main_df = add_features(main_df, bureau_df, bureau_balance_df,\n",
    "                       previous_application_df, credit_card_df, installments_df, pos_cash_df)\n",
    "\n",
    "# Deduplicate\n",
    "main_df = dedup(main_df)"
   ]
  },
  {
   "cell_type": "code",
   "execution_count": 3,
   "id": "f8786f2d",
   "metadata": {},
   "outputs": [
    {
     "data": {
      "text/plain": [
       "['C:\\\\Users\\\\rober\\\\Custom testing\\\\Home-Credit-Default-Risk\\\\saved\\\\data.pkl']"
      ]
     },
     "execution_count": 3,
     "metadata": {},
     "output_type": "execute_result"
    }
   ],
   "source": [
    "X, y, X_train, X_val, y_train, y_val = prepare_train_val_split(main_df)\n",
    "\n",
    "# Save the data for further use\n",
    "joblib.dump({\n",
    "    \"X\": X,\n",
    "    \"y\": y,\n",
    "    \"X_train\": X_train,\n",
    "    \"X_val\": X_val,\n",
    "    \"y_train\": y_train,\n",
    "    \"y_val\": y_val\n",
    "}, SAVE_PATH / \"data.pkl\")"
   ]
  }
 ],
 "metadata": {
  "kernelspec": {
   "display_name": "Python 3",
   "language": "python",
   "name": "python3"
  },
  "language_info": {
   "codemirror_mode": {
    "name": "ipython",
    "version": 3
   },
   "file_extension": ".py",
   "mimetype": "text/x-python",
   "name": "python",
   "nbconvert_exporter": "python",
   "pygments_lexer": "ipython3",
   "version": "3.11.0"
  }
 },
 "nbformat": 4,
 "nbformat_minor": 5
}
