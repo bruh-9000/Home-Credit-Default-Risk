{
 "cells": [
  {
   "cell_type": "markdown",
   "id": "4b7a56f6",
   "metadata": {},
   "source": [
    "# Project Overview\n",
    "\n",
    "#### Problem Statement\n",
    "Briefly describe the prediction task and why it matters for the business or users.\n",
    "\n",
    "#### Dataset Description\n",
    "Describe the dataset size, source, and feature types (numerical, categorical, text, etc.).\n",
    "\n",
    "#### Target Variable and Eval Metrics\n",
    "Define the target variable clearly. Specify the primary evaluation metric(s) and why they are appropriate for the problem."
   ]
  },
  {
   "cell_type": "markdown",
   "id": "3771859c",
   "metadata": {},
   "source": [
    "# Imports and Setup"
   ]
  },
  {
   "cell_type": "code",
   "execution_count": 32,
   "id": "c54b6d88",
   "metadata": {},
   "outputs": [],
   "source": [
    "import sys\n",
    "sys.path.append('../')\n",
    "\n",
    "# Reset variables and functions from other scripts\n",
    "import importlib\n",
    "import utils.utils as utils\n",
    "importlib.reload(utils)\n",
    "import utils.config as config\n",
    "importlib.reload(config)\n",
    "\n",
    "import os\n",
    "os.makedirs('saved', exist_ok=True)\n",
    "\n",
    "import pandas as pd\n",
    "\n",
    "\n",
    "\n",
    "# Project-specific utilities\n",
    "from utils.config import (\n",
    "    file_one_path,\n",
    "    file_two_path,\n",
    "    label\n",
    ")\n",
    "\n",
    "from utils.utils import (\n",
    "    load_data,\n",
    "    dedup,\n",
    "    prepare_train_test_split\n",
    ")\n",
    "\n",
    "import joblib"
   ]
  },
  {
   "cell_type": "markdown",
   "id": "03a65bad",
   "metadata": {},
   "source": [
    "# Load and Clean Data"
   ]
  },
  {
   "cell_type": "code",
   "execution_count": null,
   "id": "593348e0",
   "metadata": {},
   "outputs": [
    {
     "name": "stdout",
     "output_type": "stream",
     "text": [
      "Successfully deleted 877 duplicated examples.\n",
      "Successfully saved 6 files.\n"
     ]
    }
   ],
   "source": [
    "# Load dataset\n",
    "train_df, test_df = load_data(file_one_path, file_two_path)\n",
    "\n",
    "# Deduplicate\n",
    "train_df = dedup(train_df)\n",
    "if test_df is not None:\n",
    "    test_df = dedup(test_df)"
   ]
  },
  {
   "cell_type": "code",
   "execution_count": null,
   "id": "70317f6b",
   "metadata": {},
   "outputs": [],
   "source": [
    "# Apply to both train and test if test exists\n",
    "for df in [train_df, test_df]:\n",
    "    if df is not None:\n",
    "        # Interaction example\n",
    "        # df['Feature1_x_Feature2'] = df['Feature1'] * df['Feature2']\n",
    "\n",
    "        # Binning example\n",
    "        # df['AgeBin'] = pd.qcut(df['Age'], q=4, labels=False, duplicates='drop')\n",
    "\n",
    "        # Date/time example\n",
    "        # df['SignupMonth'] = pd.to_datetime(df['SignupDate'], errors='coerce').dt.month\n",
    "\n",
    "        # Flag example\n",
    "        # df['IsHighValue'] = (df['PurchaseAmount'] > 1000).astype(int)"
   ]
  },
  {
   "cell_type": "code",
   "execution_count": null,
   "id": "21df2fa9",
   "metadata": {},
   "outputs": [],
   "source": [
    "# Split data as needed\n",
    "X, y, X_train, X_test, y_train, y_test, _ = prepare_train_test_split(train_df, test_df, label)\n",
    "\n",
    "# Save variables to be used in next notebook\n",
    "joblib.dump(X, 'saved/X.pkl')\n",
    "joblib.dump(y, 'saved/y.pkl')\n",
    "joblib.dump(X_train, 'saved/X_train.pkl')\n",
    "joblib.dump(y_train, 'saved/y_train.pkl')\n",
    "joblib.dump(X_test, 'saved/X_test.pkl')\n",
    "joblib.dump(y_test, 'saved/y_test.pkl')\n",
    "print(\"Successfully saved 6 files.\")"
   ]
  }
 ],
 "metadata": {
  "kernelspec": {
   "display_name": "Python 3",
   "language": "python",
   "name": "python3"
  },
  "language_info": {
   "codemirror_mode": {
    "name": "ipython",
    "version": 3
   },
   "file_extension": ".py",
   "mimetype": "text/x-python",
   "name": "python",
   "nbconvert_exporter": "python",
   "pygments_lexer": "ipython3",
   "version": "3.11.0"
  }
 },
 "nbformat": 4,
 "nbformat_minor": 5
}
