{
 "cells": [
  {
   "cell_type": "markdown",
   "id": "f340554e",
   "metadata": {},
   "source": [
    "# Imports"
   ]
  },
  {
   "cell_type": "code",
   "execution_count": 3,
   "id": "a0a082e4",
   "metadata": {},
   "outputs": [
    {
     "ename": "FileNotFoundError",
     "evalue": "[Errno 2] No such file or directory: 'C:\\\\Users\\\\rober\\\\Documents\\\\GitHub\\\\ML-Templates\\\\templates\\\\classification\\\\binary\\\\tabular\\\\saved\\\\X.pkl'",
     "output_type": "error",
     "traceback": [
      "\u001b[31m---------------------------------------------------------------------------\u001b[39m",
      "\u001b[31mFileNotFoundError\u001b[39m                         Traceback (most recent call last)",
      "\u001b[36mCell\u001b[39m\u001b[36m \u001b[39m\u001b[32mIn[3]\u001b[39m\u001b[32m, line 22\u001b[39m\n\u001b[32m     19\u001b[39m value_mappings = config[\u001b[33m\"\u001b[39m\u001b[33mpreprocessing\u001b[39m\u001b[33m\"\u001b[39m][\u001b[33m\"\u001b[39m\u001b[33mvalue_mappings\u001b[39m\u001b[33m\"\u001b[39m]\n\u001b[32m     21\u001b[39m \u001b[38;5;66;03m# Load data\u001b[39;00m\n\u001b[32m---> \u001b[39m\u001b[32m22\u001b[39m X = \u001b[43mjoblib\u001b[49m\u001b[43m.\u001b[49m\u001b[43mload\u001b[49m\u001b[43m(\u001b[49m\u001b[43mSAVE_DIR\u001b[49m\u001b[43m \u001b[49m\u001b[43m/\u001b[49m\u001b[43m \u001b[49m\u001b[33;43m\"\u001b[39;49m\u001b[33;43mX.pkl\u001b[39;49m\u001b[33;43m\"\u001b[39;49m\u001b[43m)\u001b[49m\n\u001b[32m     23\u001b[39m y = joblib.load(SAVE_DIR / \u001b[33m\"\u001b[39m\u001b[33my.pkl\u001b[39m\u001b[33m\"\u001b[39m)\n\u001b[32m     24\u001b[39m X_train = joblib.load(SAVE_DIR / \u001b[33m\"\u001b[39m\u001b[33mX_train.pkl\u001b[39m\u001b[33m\"\u001b[39m)\n",
      "\u001b[36mFile \u001b[39m\u001b[32m~\\AppData\\Local\\Packages\\PythonSoftwareFoundation.Python.3.12_qbz5n2kfra8p0\\LocalCache\\local-packages\\Python312\\site-packages\\joblib\\numpy_pickle.py:735\u001b[39m, in \u001b[36mload\u001b[39m\u001b[34m(filename, mmap_mode, ensure_native_byte_order)\u001b[39m\n\u001b[32m    733\u001b[39m         obj = _unpickle(fobj, ensure_native_byte_order=ensure_native_byte_order)\n\u001b[32m    734\u001b[39m \u001b[38;5;28;01melse\u001b[39;00m:\n\u001b[32m--> \u001b[39m\u001b[32m735\u001b[39m     \u001b[38;5;28;01mwith\u001b[39;00m \u001b[38;5;28;43mopen\u001b[39;49m\u001b[43m(\u001b[49m\u001b[43mfilename\u001b[49m\u001b[43m,\u001b[49m\u001b[43m \u001b[49m\u001b[33;43m\"\u001b[39;49m\u001b[33;43mrb\u001b[39;49m\u001b[33;43m\"\u001b[39;49m\u001b[43m)\u001b[49m \u001b[38;5;28;01mas\u001b[39;00m f:\n\u001b[32m    736\u001b[39m         \u001b[38;5;28;01mwith\u001b[39;00m _validate_fileobject_and_memmap(f, filename, mmap_mode) \u001b[38;5;28;01mas\u001b[39;00m (\n\u001b[32m    737\u001b[39m             fobj,\n\u001b[32m    738\u001b[39m             validated_mmap_mode,\n\u001b[32m    739\u001b[39m         ):\n\u001b[32m    740\u001b[39m             \u001b[38;5;28;01mif\u001b[39;00m \u001b[38;5;28misinstance\u001b[39m(fobj, \u001b[38;5;28mstr\u001b[39m):\n\u001b[32m    741\u001b[39m                 \u001b[38;5;66;03m# if the returned file object is a string, this means we\u001b[39;00m\n\u001b[32m    742\u001b[39m                 \u001b[38;5;66;03m# try to load a pickle file generated with an version of\u001b[39;00m\n\u001b[32m    743\u001b[39m                 \u001b[38;5;66;03m# Joblib so we load it with joblib compatibility function.\u001b[39;00m\n",
      "\u001b[31mFileNotFoundError\u001b[39m: [Errno 2] No such file or directory: 'C:\\\\Users\\\\rober\\\\Documents\\\\GitHub\\\\ML-Templates\\\\templates\\\\classification\\\\binary\\\\tabular\\\\saved\\\\X.pkl'"
     ]
    }
   ],
   "source": [
    "from pathlib import Path\n",
    "import sys\n",
    "import yaml\n",
    "import joblib\n",
    "import pandas as pd\n",
    "\n",
    "# Add parent directory to path for imports\n",
    "ROOT = Path().resolve().parent\n",
    "SAVE_DIR = ROOT / \"saved\"\n",
    "sys.path.append(str(ROOT))\n",
    "\n",
    "# Load YAML config\n",
    "with open(\"../config.yaml\", \"r\") as f:\n",
    "    config = yaml.safe_load(f)\n",
    "\n",
    "# Extract drop_features from config\n",
    "drop_features = config[\"preprocessing\"][\"drop_features\"]\n",
    "label = config[\"general\"][\"label\"]\n",
    "value_mappings = config[\"preprocessing\"][\"value_mappings\"]\n",
    "\n",
    "# Load data\n",
    "X = joblib.load(SAVE_DIR / \"X.pkl\")\n",
    "y = joblib.load(SAVE_DIR / \"y.pkl\")\n",
    "X_train = joblib.load(SAVE_DIR / \"X_train.pkl\")\n",
    "\n",
    "# Functions\n",
    "from utils.utils import show_categorical_uniques, show_missing_data\n",
    "\n",
    "# Visualizations\n",
    "from shared.visualizations import (\n",
    "    plot_bar,\n",
    "    plot_box,\n",
    "    plot_correlation_heatmap,\n",
    "    plot_histogram,\n",
    "    plot_line,\n",
    "    plot_pie,\n",
    "    plot_scatter,\n",
    ")"
   ]
  },
  {
   "cell_type": "markdown",
   "id": "49561dc2",
   "metadata": {},
   "source": [
    "# EDA"
   ]
  },
  {
   "cell_type": "code",
   "execution_count": null,
   "id": "6d90555f",
   "metadata": {},
   "outputs": [],
   "source": [
    "X_train.head(20)"
   ]
  },
  {
   "cell_type": "code",
   "execution_count": null,
   "id": "fb8746f9",
   "metadata": {},
   "outputs": [],
   "source": [
    "# Print every feature name\n",
    "print(X_train.columns.tolist())"
   ]
  },
  {
   "cell_type": "code",
   "execution_count": null,
   "id": "754a9337",
   "metadata": {},
   "outputs": [],
   "source": [
    "# See unique values for all categorical features\n",
    "show_categorical_uniques(X_train)"
   ]
  },
  {
   "cell_type": "code",
   "execution_count": null,
   "id": "98e63b2e",
   "metadata": {},
   "outputs": [],
   "source": [
    "show_missing_data(X_train)"
   ]
  },
  {
   "cell_type": "code",
   "execution_count": null,
   "id": "3a4ab10c",
   "metadata": {},
   "outputs": [],
   "source": [
    "corr_matrix = pd.get_dummies(X_train.drop(columns=drop_features)).corr()\n",
    "plot_correlation_heatmap(corr_matrix, abs=True)"
   ]
  },
  {
   "cell_type": "code",
   "execution_count": null,
   "id": "7a2017d7",
   "metadata": {},
   "outputs": [],
   "source": [
    "# plot_pie(df, 'Feature', 'Title')\n",
    "# plot_histogram(df, 'Feature', 'Title', 'xLabel', 'yLabel', bins=10)\n",
    "# plot_bar(df, 'Feature', 'Title', 'xLabel', 'yLabel')\n",
    "# plot_line(df, 'xColumn', 'yColumn', 'Title', 'xLabel', 'yLabel')\n",
    "# plot_box(df, 'Feature', 'catColumn', 'Title', 'xLabel', 'yLabel')\n",
    "# plot_scatter(df, 'xColumn', 'yColumn', 'Title', 'xLabel', 'yLabel')\n",
    "# df['Feature'].unique()"
   ]
  }
 ],
 "metadata": {
  "kernelspec": {
   "display_name": "Python 3",
   "language": "python",
   "name": "python3"
  },
  "language_info": {
   "codemirror_mode": {
    "name": "ipython",
    "version": 3
   },
   "file_extension": ".py",
   "mimetype": "text/x-python",
   "name": "python",
   "nbconvert_exporter": "python",
   "pygments_lexer": "ipython3",
   "version": "3.12.10"
  }
 },
 "nbformat": 4,
 "nbformat_minor": 5
}
