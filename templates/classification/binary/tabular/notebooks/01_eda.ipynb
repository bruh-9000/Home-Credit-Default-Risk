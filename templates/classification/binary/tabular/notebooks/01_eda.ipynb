{
 "cells": [
  {
   "cell_type": "markdown",
   "id": "f340554e",
   "metadata": {},
   "source": [
    "# Imports"
   ]
  },
  {
   "cell_type": "code",
   "execution_count": null,
   "id": "a0a082e4",
   "metadata": {},
   "outputs": [],
   "source": [
    "from pathlib import Path\n",
    "import sys\n",
    "import yaml\n",
    "import joblib\n",
    "import pandas as pd\n",
    "\n",
    "# Add parent directory to path for imports\n",
    "ROOT = Path().resolve().parent\n",
    "SAVE_DIR = ROOT / \"saved\"\n",
    "sys.path.append(str(ROOT))\n",
    "\n",
    "# Load YAML config\n",
    "with open(\"../config.yaml\", \"r\") as f:\n",
    "    config = yaml.safe_load(f)\n",
    "\n",
    "# Extract drop_features from config\n",
    "drop_features = config[\"preprocessing\"][\"drop_features\"]\n",
    "label = config[\"general\"][\"label\"]\n",
    "value_mappings = config[\"preprocessing\"][\"value_mappings\"]\n",
    "\n",
    "# Load data\n",
    "X = joblib.load(SAVE_DIR / \"X.pkl\")\n",
    "y = joblib.load(SAVE_DIR / \"y.pkl\")\n",
    "X_train = joblib.load(SAVE_DIR / \"X_train.pkl\")\n",
    "\n",
    "# Functions\n",
    "from utils.utils import (\n",
    "    show_categorical_uniques,\n",
    "    show_missing_data,\n",
    "    cleaning_pipeline,\n",
    "    preprocessor\n",
    ")\n",
    "\n",
    "# Visualizations\n",
    "from shared.visualizations import (\n",
    "    plot_bar,\n",
    "    plot_box,\n",
    "    plot_correlation_heatmap,\n",
    "    plot_histogram,\n",
    "    plot_line,\n",
    "    plot_pie,\n",
    "    plot_scatter,\n",
    ")\n",
    "\n",
    "X_train_cleaned = cleaning_pipeline.fit_transform(X_train)\n",
    "\n",
    "X_train_preprocessed = pd.DataFrame(\n",
    "    preprocessor.fit_transform(X_train_cleaned),\n",
    "    columns=preprocessor.get_feature_names_out()\n",
    ")"
   ]
  },
  {
   "cell_type": "markdown",
   "id": "49561dc2",
   "metadata": {},
   "source": [
    "# EDA"
   ]
  },
  {
   "cell_type": "code",
   "execution_count": null,
   "id": "6d90555f",
   "metadata": {},
   "outputs": [],
   "source": [
    "X_train_preprocessed.head(20)"
   ]
  },
  {
   "cell_type": "code",
   "execution_count": null,
   "id": "fb8746f9",
   "metadata": {},
   "outputs": [],
   "source": [
    "# Print every feature name\n",
    "print(X_train_preprocessed.columns.tolist())"
   ]
  },
  {
   "cell_type": "code",
   "execution_count": null,
   "id": "754a9337",
   "metadata": {},
   "outputs": [],
   "source": [
    "# See unique values for all categorical features\n",
    "show_categorical_uniques(X_train_preprocessed)"
   ]
  },
  {
   "cell_type": "code",
   "execution_count": null,
   "id": "98e63b2e",
   "metadata": {},
   "outputs": [],
   "source": [
    "show_missing_data(X_train_preprocessed)"
   ]
  },
  {
   "cell_type": "code",
   "execution_count": null,
   "id": "3a4ab10c",
   "metadata": {},
   "outputs": [],
   "source": [
    "corr_matrix = pd.get_dummies(X_train_preprocessed).corr()\n",
    "plot_correlation_heatmap(corr_matrix, abs=True)"
   ]
  },
  {
   "cell_type": "code",
   "execution_count": null,
   "id": "7a2017d7",
   "metadata": {},
   "outputs": [],
   "source": [
    "# plot_pie(df, 'Feature', 'Title')\n",
    "# plot_histogram(df, 'Feature', 'Title', 'xLabel', 'yLabel', bins=10)\n",
    "# plot_bar(df, 'Feature', 'Title', 'xLabel', 'yLabel')\n",
    "# plot_line(df, 'xColumn', 'yColumn', 'Title', 'xLabel', 'yLabel')\n",
    "# plot_box(df, 'Feature', 'catColumn', 'Title', 'xLabel', 'yLabel')\n",
    "# plot_scatter(df, 'xColumn', 'yColumn', 'Title', 'xLabel', 'yLabel')\n",
    "# df['Feature'].unique()"
   ]
  }
 ],
 "metadata": {
  "kernelspec": {
   "display_name": "Python 3",
   "language": "python",
   "name": "python3"
  },
  "language_info": {
   "codemirror_mode": {
    "name": "ipython",
    "version": 3
   },
   "file_extension": ".py",
   "mimetype": "text/x-python",
   "name": "python",
   "nbconvert_exporter": "python",
   "pygments_lexer": "ipython3",
   "version": "3.12.10"
  }
 },
 "nbformat": 4,
 "nbformat_minor": 5
}
