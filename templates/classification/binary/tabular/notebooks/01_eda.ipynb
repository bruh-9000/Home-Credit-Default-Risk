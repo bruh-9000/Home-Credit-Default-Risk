{
 "cells": [
  {
   "cell_type": "markdown",
   "id": "f340554e",
   "metadata": {},
   "source": [
    "# Imports"
   ]
  },
  {
   "cell_type": "code",
   "execution_count": null,
   "id": "a0a082e4",
   "metadata": {},
   "outputs": [],
   "source": [
    "from pathlib import Path\n",
    "import sys\n",
    "import yaml\n",
    "import joblib\n",
    "import pandas as pd\n",
    "pd.set_option('display.max_columns', None)\n",
    "pd.set_option('display.width', None)\n",
    "pd.set_option('display.max_colwidth', None)\n",
    "\n",
    "ROOT = Path().resolve().parent\n",
    "SAVE_DIR = ROOT / \"saved\"\n",
    "sys.path.append(str(ROOT))\n",
    "\n",
    "def find_project_root(marker=\"requirements.txt\"):\n",
    "    current = Path().resolve()\n",
    "    for parent in [current] + list(current.parents):\n",
    "        if (parent / marker).is_file():\n",
    "            return parent\n",
    "    raise FileNotFoundError(f\"Project root with '{marker}' not found.\")\n",
    "SHARED_ROOT = find_project_root(\"requirements.txt\") / \"shared\"\n",
    "sys.path.append(str(SHARED_ROOT))\n",
    "\n",
    "CONFIG_PATH = ROOT / \"config.yaml\"\n",
    "with open(CONFIG_PATH, \"r\") as f:\n",
    "    config = yaml.safe_load(f)\n",
    "\n",
    "# Load data\n",
    "X = joblib.load(SAVE_DIR / \"X.pkl\")\n",
    "y = joblib.load(SAVE_DIR / \"y.pkl\")\n",
    "X_train = joblib.load(SAVE_DIR / \"X_train.pkl\")\n",
    "\n",
    "from utils.utils import auto_config_from_data\n",
    "\n",
    "# Visualizations\n",
    "from visualizations import (\n",
    "    plot_bar,\n",
    "    plot_box,\n",
    "    plot_histogram,\n",
    "    plot_line,\n",
    "    plot_pie,\n",
    "    plot_scatter,\n",
    ")\n",
    "\n",
    "CONFIG_PATH = ROOT / \"config.yaml\"\n",
    "# auto_config_from_data(X, CONFIG_PATH)\n",
    "with open(CONFIG_PATH, \"r\") as f:\n",
    "    config = yaml.safe_load(f)\n",
    "\n",
    "drop_features = config[\"preprocessing\"][\"drop_features\"]\n",
    "label = config[\"general\"][\"label\"]\n",
    "value_mappings = config[\"preprocessing\"][\"value_mappings\"]\n",
    "\n",
    "from utils.utils import show_categorical_uniques, show_missing_data, cleaning_pipeline, preprocessor\n",
    "\n",
    "X_train_cleaned = cleaning_pipeline.fit_transform(X_train)\n",
    "\n",
    "X_train_preprocessed = pd.DataFrame(\n",
    "    preprocessor.fit_transform(X_train_cleaned),\n",
    "    columns=preprocessor.get_feature_names_out()\n",
    ")\n",
    "\n",
    "# Rename columns for EDA\n",
    "X_train_preprocessed.columns = [\n",
    "    col.replace(\"remainder__\", \"\")\n",
    "       .replace(\"onehot__\", \"oh__\")\n",
    "       .replace(\"ordinal__\", \"or__\")\n",
    "    for col in X_train_preprocessed.columns\n",
    "]"
   ]
  },
  {
   "cell_type": "markdown",
   "id": "49561dc2",
   "metadata": {},
   "source": [
    "# EDA"
   ]
  },
  {
   "cell_type": "code",
   "execution_count": null,
   "id": "6d90555f",
   "metadata": {},
   "outputs": [],
   "source": [
    "X_train_preprocessed.head(10)"
   ]
  },
  {
   "cell_type": "code",
   "execution_count": null,
   "id": "fb8746f9",
   "metadata": {},
   "outputs": [],
   "source": [
    "# Print every feature name\n",
    "print(X_train_preprocessed.columns.tolist())"
   ]
  },
  {
   "cell_type": "code",
   "execution_count": null,
   "id": "98e63b2e",
   "metadata": {},
   "outputs": [],
   "source": [
    "show_missing_data(X_train_preprocessed)"
   ]
  },
  {
   "cell_type": "code",
   "execution_count": null,
   "id": "3a4ab10c",
   "metadata": {},
   "outputs": [],
   "source": [
    "# Compute absolute correlation matrix\n",
    "corr_matrix = X_train_preprocessed.corr()\n",
    "\n",
    "# Remove weak correlations and self-correlations\n",
    "filtered_corr = corr_matrix.where((corr_matrix.abs() > 0.5) & (corr_matrix.abs() < 1.0)).dropna(how='all', axis=0).dropna(how='all', axis=1)\n",
    "\n",
    "# Plot\n",
    "import matplotlib.pyplot as plt\n",
    "import seaborn as sns\n",
    "plt.figure(figsize=(10, 8))\n",
    "sns.heatmap(filtered_corr, annot=True, fmt='.2f', cmap='coolwarm', vmin=-1, vmax=1)\n",
    "plt.title('Strong Feature Correlations (> 0.5)')\n",
    "plt.show()"
   ]
  },
  {
   "cell_type": "code",
   "execution_count": null,
   "id": "7a2017d7",
   "metadata": {},
   "outputs": [],
   "source": [
    "# plot_pie(X_train_preprocessed, 'Feature', 'Title')\n",
    "# plot_histogram(X_train_preprocessed, 'Feature', 'Title', 'xLabel', 'yLabel', bins=10)\n",
    "# plot_bar(X_train_preprocessed, 'Feature', 'Title', 'xLabel', 'yLabel')\n",
    "# plot_line(X_train_preprocessed, 'xColumn', 'yColumn', 'Title', 'xLabel', 'yLabel')\n",
    "# plot_box(X_train_preprocessed, 'Feature', 'catColumn', 'Title', 'xLabel', 'yLabel')\n",
    "# plot_scatter(X_train_preprocessed, 'xColumn', 'yColumn', 'Title', 'xLabel', 'yLabel')\n",
    "# X_train_preprocessed['Feature'].value_counts()"
   ]
  }
 ],
 "metadata": {
  "kernelspec": {
   "display_name": "Python 3",
   "language": "python",
   "name": "python3"
  },
  "language_info": {
   "codemirror_mode": {
    "name": "ipython",
    "version": 3
   },
   "file_extension": ".py",
   "mimetype": "text/x-python",
   "name": "python",
   "nbconvert_exporter": "python",
   "pygments_lexer": "ipython3",
   "version": "3.9.10"
  }
 },
 "nbformat": 4,
 "nbformat_minor": 5
}
