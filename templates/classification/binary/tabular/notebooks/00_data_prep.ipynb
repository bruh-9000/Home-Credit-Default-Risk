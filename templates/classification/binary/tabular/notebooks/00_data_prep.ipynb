{
 "cells": [
  {
   "cell_type": "markdown",
   "id": "4b7a56f6",
   "metadata": {},
   "source": [
    "# Project Overview\n",
    "\n",
    "#### Problem Statement\n",
    "Briefly describe the prediction task and why it matters for the business or users.\n",
    "\n",
    "#### Dataset Description\n",
    "Describe the dataset size, source, and feature types (numerical, categorical, text, etc.).\n",
    "\n",
    "#### Target Variable and Eval Metrics\n",
    "Define the target variable clearly. Specify the primary evaluation metric(s) and why they are appropriate for the problem."
   ]
  },
  {
   "cell_type": "markdown",
   "id": "3771859c",
   "metadata": {},
   "source": [
    "# Imports and Setup"
   ]
  },
  {
   "cell_type": "code",
   "execution_count": null,
   "id": "c54b6d88",
   "metadata": {},
   "outputs": [],
   "source": [
    "from pathlib import Path\n",
    "import sys\n",
    "import yaml\n",
    "import joblib\n",
    "\n",
    "ROOT = Path().resolve().parent\n",
    "SAVE_DIR = ROOT / \"saved\"\n",
    "sys.path.append(str(ROOT))\n",
    "\n",
    "with open(ROOT / \"config.yaml\", \"r\") as f:\n",
    "    config = yaml.safe_load(f)\n",
    "\n",
    "file_one_path = config[\"general\"][\"file_one_path\"]\n",
    "file_two_path = config[\"general\"][\"file_two_path\"]\n",
    "label = config[\"general\"][\"label\"]\n",
    "\n",
    "from utils.utils import (\n",
    "    load_data,\n",
    "    dedup,\n",
    "    prepare_train_test_split\n",
    ")"
   ]
  },
  {
   "cell_type": "markdown",
   "id": "03a65bad",
   "metadata": {},
   "source": [
    "# Load and Clean Data"
   ]
  },
  {
   "cell_type": "code",
   "execution_count": null,
   "id": "593348e0",
   "metadata": {},
   "outputs": [],
   "source": [
    "# Load dataset\n",
    "train_df, test_df = load_data(file_one_path, file_two_path)\n",
    "\n",
    "# Deduplicate\n",
    "train_df = dedup(train_df)\n",
    "if test_df is not None:\n",
    "    test_df = dedup(test_df)"
   ]
  },
  {
   "cell_type": "code",
   "execution_count": null,
   "id": "7f41694f",
   "metadata": {},
   "outputs": [],
   "source": [
    "# Interaction example\n",
    "# df['Feature1_x_Feature2'] = df['Feature1'] * df['Feature2']\n",
    "\n",
    "# Binning example\n",
    "# df['AgeBin'] = pd.qcut(df['Age'], q=4, labels=False, duplicates='drop')\n",
    "\n",
    "# Flag example\n",
    "# df['IsHighValue'] = (df['PurchaseAmount'] > 1000).astype(int)"
   ]
  },
  {
   "cell_type": "code",
   "execution_count": null,
   "id": "f8786f2d",
   "metadata": {},
   "outputs": [],
   "source": [
    "X, y, X_train, X_test, y_train, y_test = prepare_train_test_split(train_df, test_df)\n",
    "\n",
    "# Save the datasets for further use\n",
    "joblib.dump(X, SAVE_DIR / \"X.pkl\")\n",
    "joblib.dump(y, SAVE_DIR / \"y.pkl\")\n",
    "joblib.dump(X_train, SAVE_DIR / \"X_train.pkl\")\n",
    "joblib.dump(y_train, SAVE_DIR / \"y_train.pkl\")\n",
    "joblib.dump(X_test, SAVE_DIR / \"X_test.pkl\")\n",
    "joblib.dump(y_test, SAVE_DIR / \"y_test.pkl\")\n",
    "\n",
    "print(\"Successfully saved 8 files.\")"
   ]
  }
 ],
 "metadata": {
  "kernelspec": {
   "display_name": "Python 3",
   "language": "python",
   "name": "python3"
  },
  "language_info": {
   "codemirror_mode": {
    "name": "ipython",
    "version": 3
   },
   "file_extension": ".py",
   "mimetype": "text/x-python",
   "name": "python",
   "nbconvert_exporter": "python",
   "pygments_lexer": "ipython3",
   "version": "3.9.10"
  }
 },
 "nbformat": 4,
 "nbformat_minor": 5
}
