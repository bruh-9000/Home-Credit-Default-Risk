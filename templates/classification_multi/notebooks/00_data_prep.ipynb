{
 "cells": [
  {
   "cell_type": "markdown",
   "id": "4b7a56f6",
   "metadata": {},
   "source": [
    "# Project Overview\n",
    "\n",
    "#### Problem Statement\n",
    "Briefly describe the prediction task and why it matters for the business or users.\n",
    "\n",
    "#### Dataset Description\n",
    "Describe the dataset size, source, and feature types (numerical, categorical, text, etc.).\n",
    "\n",
    "#### Target Variable and Eval Metrics\n",
    "Define the target variable clearly. Specify the primary evaluation metric(s) and why they are appropriate for the problem."
   ]
  },
  {
   "cell_type": "markdown",
   "id": "3771859c",
   "metadata": {},
   "source": [
    "# Imports and Setup"
   ]
  },
  {
   "cell_type": "code",
   "execution_count": null,
   "id": "c54b6d88",
   "metadata": {},
   "outputs": [],
   "source": [
    "from pathlib import Path\n",
    "import sys\n",
    "import os\n",
    "import yaml\n",
    "import pandas as pd\n",
    "import numpy as np\n",
    "import joblib\n",
    "from sklearn.preprocessing import LabelEncoder\n",
    "\n",
    "# Set project root\n",
    "ROOT = Path().resolve().parent\n",
    "sys.path.append(str(ROOT))\n",
    "\n",
    "# Load config from YAML\n",
    "with open(\"../config.yaml\", \"r\") as f:\n",
    "    config = yaml.safe_load(f)\n",
    "\n",
    "# Extract values from config\n",
    "file_one_path = config[\"general\"][\"file_one_path\"]\n",
    "file_two_path = config[\"general\"][\"file_two_path\"]\n",
    "label = config[\"general\"][\"label\"]\n",
    "mode = config[\"general\"][\"mode\"]\n",
    "\n",
    "# Ensure save directory exists\n",
    "SAVE_DIR = ROOT / \"saved\"\n",
    "SAVE_DIR.mkdir(exist_ok=True)\n",
    "\n",
    "# Import data utility functions\n",
    "from utils.utils import (\n",
    "    load_data,\n",
    "    dedup,\n",
    "    prepare_train_test_split\n",
    ")"
   ]
  },
  {
   "cell_type": "markdown",
   "id": "03a65bad",
   "metadata": {},
   "source": [
    "# Load and Clean Data"
   ]
  },
  {
   "cell_type": "code",
   "execution_count": null,
   "id": "593348e0",
   "metadata": {},
   "outputs": [],
   "source": [
    "# Load dataset\n",
    "train_df, test_df = load_data(file_one_path, file_two_path)\n",
    "\n",
    "# Deduplicate\n",
    "train_df = dedup(train_df)\n",
    "if test_df is not None:\n",
    "    test_df = dedup(test_df)"
   ]
  },
  {
   "cell_type": "code",
   "execution_count": null,
   "id": "7f41694f",
   "metadata": {},
   "outputs": [],
   "source": [
    "# Apply to both train and test if test exists\n",
    "for df in [train_df, test_df]:\n",
    "    if df is not None:\n",
    "        # Interaction example\n",
    "        # df['Feature1_x_Feature2'] = df['Feature1'] * df['Feature2']\n",
    "\n",
    "        # Binning example\n",
    "        # df['AgeBin'] = pd.qcut(df['Age'], q=4, labels=False, duplicates='drop')\n",
    "\n",
    "        # Flag example\n",
    "        # df['IsHighValue'] = (df['PurchaseAmount'] > 1000).astype(int)\n",
    "        \n",
    "        pass"
   ]
  },
  {
   "cell_type": "code",
   "execution_count": null,
   "id": "21df2fa9",
   "metadata": {},
   "outputs": [],
   "source": [
    "# Remove classes that only appear once in train\n",
    "counts = train_df[label].value_counts()\n",
    "valid_classes = counts[counts >= 2].index\n",
    "\n",
    "train_df = train_df[train_df[label].isin(valid_classes)]\n",
    "\n",
    "le = LabelEncoder()\n",
    "if test_df is not None and label in test_df.columns:\n",
    "    le.fit(pd.concat([train_df[label], test_df[label]]))\n",
    "else:\n",
    "    le.fit(train_df[label])\n",
    "\n",
    "joblib.dump(le, SAVE_DIR / \"label_encoder.pkl\")\n",
    "    \n",
    "\n",
    "# Split data as needed\n",
    "X, y, X_train, X_test, y_train, y_test, X_val, y_val = prepare_train_test_split(train_df, test_df, label, le)\n",
    "\n",
    "# Save variables to be used in next notebook\n",
    "joblib.dump(X, SAVE_DIR / \"X.pkl\")\n",
    "joblib.dump(y, SAVE_DIR / \"y.pkl\")\n",
    "joblib.dump(X_train, SAVE_DIR / \"X_train.pkl\")\n",
    "joblib.dump(y_train, SAVE_DIR / \"y_train.pkl\")\n",
    "joblib.dump(X_test, SAVE_DIR / \"X_test.pkl\")\n",
    "joblib.dump(y_test, SAVE_DIR / \"y_test.pkl\")\n",
    "joblib.dump(X_val, SAVE_DIR / \"X_val.pkl\")\n",
    "joblib.dump(y_val, SAVE_DIR / \"y_val.pkl\")\n",
    "print(\"Successfully saved 8 files.\")"
   ]
  }
 ],
 "metadata": {
  "kernelspec": {
   "display_name": "Python 3",
   "language": "python",
   "name": "python3"
  },
  "language_info": {
   "codemirror_mode": {
    "name": "ipython",
    "version": 3
   },
   "file_extension": ".py",
   "mimetype": "text/x-python",
   "name": "python",
   "nbconvert_exporter": "python",
   "pygments_lexer": "ipython3",
   "version": "3.11.0"
  }
 },
 "nbformat": 4,
 "nbformat_minor": 5
}
