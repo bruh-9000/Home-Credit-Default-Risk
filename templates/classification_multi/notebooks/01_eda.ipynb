{
 "cells": [
  {
   "cell_type": "markdown",
   "id": "f340554e",
   "metadata": {},
   "source": [
    "# Imports"
   ]
  },
  {
   "cell_type": "code",
   "execution_count": null,
   "id": "a0a082e4",
   "metadata": {},
   "outputs": [],
   "source": [
    "from pathlib import Path\n",
    "import sys\n",
    "import yaml\n",
    "import joblib\n",
    "import pandas as pd\n",
    "from sklearn.feature_extraction.text import CountVectorizer\n",
    "\n",
    "# Add parent directory to path for imports\n",
    "ROOT = Path().resolve().parent\n",
    "SAVE_DIR = ROOT / \"saved\"\n",
    "sys.path.append(str(ROOT))\n",
    "\n",
    "# Load YAML config\n",
    "with open(\"../config.yaml\", \"r\") as f:\n",
    "    config = yaml.safe_load(f)\n",
    "\n",
    "# Extract drop_features from config\n",
    "label = config[\"general\"][\"label\"]\n",
    "mode = config[\"general\"][\"mode\"]\n",
    "drop_features = config[\"preprocessing\"][\"drop_features\"]\n",
    "value_mappings = config[\"preprocessing\"][\"value_mappings\"]\n",
    "\n",
    "# Load data\n",
    "X = joblib.load(SAVE_DIR / \"X.pkl\")\n",
    "y = joblib.load(SAVE_DIR / \"y.pkl\")\n",
    "X_train = joblib.load(SAVE_DIR / \"X_train.pkl\")\n",
    "\n",
    "# Functions\n",
    "from utils.utils import show_categorical_uniques, show_missing_data\n",
    "\n",
    "# Visualizations\n",
    "from utils.visualizations import plot_correlation_heatmap"
   ]
  },
  {
   "cell_type": "markdown",
   "id": "49561dc2",
   "metadata": {},
   "source": [
    "# EDA"
   ]
  },
  {
   "cell_type": "code",
   "execution_count": null,
   "id": "6d90555f",
   "metadata": {},
   "outputs": [],
   "source": [
    "X_train.head(10)"
   ]
  },
  {
   "cell_type": "code",
   "execution_count": null,
   "id": "fb8746f9",
   "metadata": {},
   "outputs": [],
   "source": [
    "# Print every feature name\n",
    "print(X_train.columns.tolist())"
   ]
  },
  {
   "cell_type": "code",
   "execution_count": null,
   "id": "754a9337",
   "metadata": {},
   "outputs": [],
   "source": [
    "# See unique values for all categorical features\n",
    "show_categorical_uniques(X_train)\n",
    "show_missing_data(X_train)"
   ]
  },
  {
   "cell_type": "code",
   "execution_count": null,
   "id": "98e63b2e",
   "metadata": {},
   "outputs": [],
   "source": [
    "if mode == \"text\":\n",
    "    print(\"Text mode: showing top terms by frequency\")\n",
    "    vec = CountVectorizer(stop_words=\"english\", max_features=20)\n",
    "    X_vec = vec.fit_transform(X_train[\"text\"])\n",
    "    term_freq = pd.Series(X_vec.toarray().sum(axis=0), index=vec.get_feature_names_out())\n",
    "    display(term_freq.sort_values(ascending=False).head(20))"
   ]
  },
  {
   "cell_type": "code",
   "execution_count": null,
   "id": "3a4ab10c",
   "metadata": {},
   "outputs": [],
   "source": [
    "corr_matrix = pd.get_dummies(X_train.drop(columns=drop_features)).corr()\n",
    "plot_correlation_heatmap(corr_matrix)"
   ]
  },
  {
   "cell_type": "code",
   "execution_count": null,
   "id": "7a2017d7",
   "metadata": {},
   "outputs": [],
   "source": [
    "# plot_pie(df, 'Feature', 'Title')\n",
    "# plot_histogram(df, 'Feature', 'Title', 'xLabel', 'yLabel', bins=10)\n",
    "# plot_bar(df, 'Feature', 'Title', 'xLabel', 'yLabel')\n",
    "# plot_line(df, 'xColumn', 'yColumn', 'Title', 'xLabel', 'yLabel')\n",
    "# plot_box(df, 'Feature', 'catColumn', 'Title', 'xLabel', 'yLabel')\n",
    "# plot_scatter(df, 'xColumn', 'yColumn', 'Title', 'xLabel', 'yLabel')\n",
    "# df['Feature'].unique()"
   ]
  }
 ],
 "metadata": {
  "kernelspec": {
   "display_name": "Python 3",
   "language": "python",
   "name": "python3"
  },
  "language_info": {
   "codemirror_mode": {
    "name": "ipython",
    "version": 3
   },
   "file_extension": ".py",
   "mimetype": "text/x-python",
   "name": "python",
   "nbconvert_exporter": "python",
   "pygments_lexer": "ipython3",
   "version": "3.11.0"
  }
 },
 "nbformat": 4,
 "nbformat_minor": 5
}
